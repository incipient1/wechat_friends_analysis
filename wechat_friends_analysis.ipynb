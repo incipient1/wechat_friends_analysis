{
 "cells": [
  {
   "cell_type": "markdown",
   "metadata": {},
   "source": [
    "# 微信好友分析"
   ]
  },
  {
   "cell_type": "markdown",
   "metadata": {},
   "source": [
    "## 获得数据"
   ]
  },
  {
   "cell_type": "code",
   "execution_count": 132,
   "metadata": {},
   "outputs": [],
   "source": [
    "import itchat\n",
    "import pandas\n",
    "import seaborn as sns\n",
    "import matplotlib\n",
    "import matplotlib.pyplot as plt\n",
    "import numpy as np\n",
    "import os\n",
    "import TencentYoutuyun\n",
    "import numpy as np\n",
    "%matplotlib inline"
   ]
  },
  {
   "cell_type": "markdown",
   "metadata": {},
   "source": [
    "登陆微信网页版，需扫描二维码;获取friends数据，转成pandas.DataFrame格式，先导出，再导入，防止sns作图时出错"
   ]
  },
  {
   "cell_type": "code",
   "execution_count": 35,
   "metadata": {},
   "outputs": [
    {
     "name": "stderr",
     "output_type": "stream",
     "text": [
      "Getting uuid of QR code.\n",
      "Downloading QR code.\n",
      "Please scan the QR code to log in.\n",
      "Please press confirm on your phone.\n",
      "Loading the contact, this may take a little while.\n",
      "Login successfully as incipient\n"
     ]
    }
   ],
   "source": [
    "itchat.auto_login()"
   ]
  },
  {
   "cell_type": "code",
   "execution_count": 53,
   "metadata": {
    "collapsed": true
   },
   "outputs": [],
   "source": [
    "friends_wechat = itchat.get_friends(update = True)\n",
    "\n",
    "friends_df = pandas.DataFrame(data = friends_wechat[1:])\n",
    "# 因为friends[0]得出的数据是自己，所以要[1:]切片\n",
    "friends_df.to_csv('wechat_friends_info.csv',index_label='id')\n",
    "\n",
    "friends_row = pandas.read_csv('wechat_friends_info.csv',encoding = 'gbk')"
   ]
  },
  {
   "cell_type": "markdown",
   "metadata": {},
   "source": [
    "## 清洗\n",
    "字段太多，去掉不认识的、重复的<br>\n",
    "每个字段是什么意思？"
   ]
  },
  {
   "cell_type": "code",
   "execution_count": 104,
   "metadata": {},
   "outputs": [
    {
     "data": {
      "text/plain": [
       "Index(['id', 'Alias', 'AppAccountFlag', 'AttrStatus', 'ChatRoomId', 'City',\n",
       "       'ContactFlag', 'DisplayName', 'EncryChatRoomId', 'HeadImgUrl',\n",
       "       'HideInputBarFlag', 'IsOwner', 'KeyWord', 'MemberCount', 'MemberList',\n",
       "       'NickName', 'OwnerUin', 'PYInitial', 'PYQuanPin', 'Province',\n",
       "       'RemarkName', 'RemarkPYInitial', 'RemarkPYQuanPin', 'Sex', 'Signature',\n",
       "       'SnsFlag', 'StarFriend', 'Statues', 'Uin', 'UniFriend', 'UserName',\n",
       "       'VerifyFlag'],\n",
       "      dtype='object')"
      ]
     },
     "execution_count": 104,
     "metadata": {},
     "output_type": "execute_result"
    }
   ],
   "source": [
    "friends_row.columns"
   ]
  },
  {
   "cell_type": "code",
   "execution_count": 118,
   "metadata": {},
   "outputs": [
    {
     "name": "stdout",
     "output_type": "stream",
     "text": [
      "<class 'pandas.core.frame.DataFrame'>\n",
      "RangeIndex: 199 entries, 0 to 198\n",
      "Data columns (total 8 columns):\n",
      "id            199 non-null int64\n",
      "NickName      199 non-null object\n",
      "RemarkName    65 non-null object\n",
      "Province      164 non-null object\n",
      "City          158 non-null object\n",
      "Sex           199 non-null int64\n",
      "Signature     145 non-null object\n",
      "HeadImgUrl    199 non-null object\n",
      "dtypes: int64(2), object(6)\n",
      "memory usage: 12.5+ KB\n"
     ]
    }
   ],
   "source": [
    "friends = friends_row[['id','NickName','RemarkName','Province','City','Sex',\\\n",
    "                   'Signature','HeadImgUrl']]\n",
    "friends.info()"
   ]
  },
  {
   "cell_type": "markdown",
   "metadata": {},
   "source": [
    "## 分析"
   ]
  },
  {
   "cell_type": "markdown",
   "metadata": {},
   "source": [
    "### 性别分布"
   ]
  },
  {
   "cell_type": "code",
   "execution_count": 96,
   "metadata": {},
   "outputs": [
    {
     "data": {
      "text/plain": [
       "Text(0.5,1,'微信好友性别概况')"
      ]
     },
     "execution_count": 96,
     "metadata": {},
     "output_type": "execute_result"
    },
    {
     "data": {
      "image/png": "[encoded data removed]",
      "text/plain": [
       "<matplotlib.figure.Figure at 0x1d78ffff3c8>"
      ]
     },
     "metadata": {},
     "output_type": "display_data"
    }
   ],
   "source": [
    "# 设置饼图的倾斜角度，1：不倾斜\n",
    "plt.axes(aspect=1)\n",
    "plt.rcParams['font.family'] = ['SimHei']\n",
    "plt.pie(friends.groupby('Sex',axis=0).count()['NickName'],\n",
    "       labels = ['unknown','male','female'],\n",
    "       autopct='%.1f%%'   # 设置饼图中显示百分比\n",
    "       )\n",
    "plt.title('微信好友性别概况')"
   ]
  },
  {
   "cell_type": "code",
   "execution_count": 75,
   "metadata": {},
   "outputs": [
    {
     "data": {
      "image/png": "[encoded data removed]",
      "text/plain": [
       "<matplotlib.figure.Figure at 0x1d78fa49278>"
      ]
     },
     "metadata": {},
     "output_type": "display_data"
    }
   ],
   "source": [
    "ncount = len(friends)\n",
    "ax = sns.countplot(x='Sex',data=friends,order=[0,2,1])\n",
    "plt.xlabel('Sex',fontsize=12)\n",
    "plt.title('微信好友性别概况')\n",
    "plt.rcParams['font.family'] = ['SimHei']\n",
    "\n",
    "ax2 = ax.twinx()\n",
    "ax2.yaxis.tick_left()\n",
    "ax.yaxis.tick_right()\n",
    "ax.yaxis.set_label_position('right')\n",
    "ax2.yaxis.set_label_position('left')\n",
    "ax.set_ylabel('人数')\n",
    "ax2.set_ylabel('占比 %')\n",
    "\n",
    "# 让‘人数’纵坐标的值为整数\n",
    "fmt = '%.0f'\n",
    "yticks = matplotlib.ticker.FormatStrFormatter( fmt )\n",
    "ax.yaxis.set_major_formatter( yticks )\n",
    "\n",
    "for p in ax.patches:\n",
    "    x=p.get_bbox().get_points()[:,0]\n",
    "    y=p.get_bbox().get_points()[1,1]\n",
    "    ax.annotate('{:.1f}%, {:d}人'.format(100.*y/ncount,int(y)), (x.mean(), y), \n",
    "            ha='center', va='bottom') \n",
    "\n",
    "ax.yaxis.set_major_locator(matplotlib.ticker.LinearLocator(11))\n",
    "\n",
    "# 设置纵轴数据范围\n",
    "ax2.set_ylim(0,100)\n",
    "ax.set_ylim(0,ncount)\n",
    "\n",
    "ax2.yaxis.set_major_locator(matplotlib.ticker.MultipleLocator(10))\n",
    "\n",
    "# 关闭坐标轴ax2 的横线\n",
    "ax2.grid(None)\n",
    "\n",
    "# 修改x轴上标签值 如此就不需要图例\n",
    "a = ['unknown','female','male']\n",
    "ax.set_xticklabels(a,fontsize=12);"
   ]
  },
  {
   "cell_type": "markdown",
   "metadata": {},
   "source": [
    "上下两张图一对比，就能看出来为什么数据分析时都不推荐饼图了。<br>"
   ]
  },
  {
   "cell_type": "markdown",
   "metadata": {},
   "source": [
    "### 位置分布"
   ]
  },
  {
   "cell_type": "code",
   "execution_count": 111,
   "metadata": {},
   "outputs": [
    {
     "data": {
      "text/plain": [
       "Province\n",
       "广东              86\n",
       "陕西              16\n",
       "四川               6\n",
       "北京               6\n",
       "江苏               5\n",
       "重庆               5\n",
       "湖北               4\n",
       "上海               4\n",
       "浙江               3\n",
       "香港               3\n",
       "山东               3\n",
       "广西               2\n",
       "Paris            2\n",
       "辽宁               2\n",
       "山西               2\n",
       "湖南               1\n",
       "福建               1\n",
       "河南               1\n",
       "Barcelona        1\n",
       "California       1\n",
       "安徽               1\n",
       "天津               1\n",
       "云南               1\n",
       "Washington       1\n",
       "Pennsylvania     1\n",
       "Others           1\n",
       "Karlsruhe        1\n",
       "Idaho            1\n",
       "Canberra         1\n",
       "黑龙江              1\n",
       "Name: NickName, dtype: int64"
      ]
     },
     "execution_count": 111,
     "metadata": {},
     "output_type": "execute_result"
    }
   ],
   "source": [
    "friends.groupby('Province',axis=0).count().sort_values('NickName',ascending=False)['NickName']"
   ]
  },
  {
   "cell_type": "markdown",
   "metadata": {},
   "source": [
    "在[BDP](https://me.bdp.cn/home.html)中使用“本周新增订单分布”作为模板，得到下图。\n",
    "![联系人分布概况]()"
   ]
  },
  {
   "cell_type": "markdown",
   "metadata": {},
   "source": [
    "### 头像"
   ]
  },
  {
   "cell_type": "markdown",
   "metadata": {},
   "source": [
    "下载头像，保存到本地，判断头像是否为人像,<br>\n",
    "接入[腾讯优图](http://open.youtu.qq.com/#/develop/new-join)即可判断"
   ]
  },
  {
   "cell_type": "code",
   "execution_count": 49,
   "metadata": {},
   "outputs": [],
   "source": [
    "folder = 'E:\\\\MySQL_data\\\\wechat_friends_img\\\\'\n",
    "os.path.exists(folder)\n",
    "j = -1 # i为1时，j为0，取出的是id=0的好友头像，保证图片名和id一致\n",
    "for i in friends_wechat:\n",
    "    \n",
    "    img = folder + '\\\\image{:d}.jpg'.format(j)\n",
    "    img_data = itchat.get_head_img(userName = i['UserName'])\n",
    "    if os.path.exists(img) == False :\n",
    "        with open(img,'wb') as file:\n",
    "            file.write(img_data)\n",
    "    j += 1"
   ]
  },
  {
   "cell_type": "code",
   "execution_count": 68,
   "metadata": {
    "collapsed": true
   },
   "outputs": [
    {
     "data": {
      "text/plain": [
       "{'errorcode': 0,\n",
       " 'errormsg': 'OK',\n",
       " 'face': [{'age': 22,\n",
       "   'beauty': 87,\n",
       "   'expression': 76,\n",
       "   'face_id': '2489414698909367045',\n",
       "   'face_shape': {'face_profile': [{'x': 147, 'y': 375},\n",
       "     {'x': 152, 'y': 403},\n",
       "     {'x': 159, 'y': 429},\n",
       "     {'x': 169, 'y': 455},\n",
       "     {'x': 183, 'y': 479},\n",
       "     {'x': 203, 'y': 500},\n",
       "     {'x': 227, 'y': 517},\n",
       "     {'x': 252, 'y': 531},\n",
       "     {'x': 278, 'y': 543},\n",
       "     {'x': 304, 'y': 553},\n",
       "     {'x': 331, 'y': 554},\n",
       "     {'x': 357, 'y': 548},\n",
       "     {'x': 380, 'y': 535},\n",
       "     {'x': 404, 'y': 521},\n",
       "     {'x': 428, 'y': 505},\n",
       "     {'x': 449, 'y': 487},\n",
       "     {'x': 466, 'y': 464},\n",
       "     {'x': 478, 'y': 439},\n",
       "     {'x': 486, 'y': 413},\n",
       "     {'x': 491, 'y': 386},\n",
       "     {'x': 494, 'y': 361}],\n",
       "    'left_eye': [{'x': 173, 'y': 376},\n",
       "     {'x': 191, 'y': 378},\n",
       "     {'x': 210, 'y': 376},\n",
       "     {'x': 228, 'y': 371},\n",
       "     {'x': 245, 'y': 364},\n",
       "     {'x': 227, 'y': 355},\n",
       "     {'x': 206, 'y': 354},\n",
       "     {'x': 187, 'y': 361}],\n",
       "    'left_eyebrow': [{'x': 140, 'y': 322},\n",
       "     {'x': 172, 'y': 319},\n",
       "     {'x': 204, 'y': 320},\n",
       "     {'x': 236, 'y': 325},\n",
       "     {'x': 267, 'y': 329},\n",
       "     {'x': 243, 'y': 303},\n",
       "     {'x': 207, 'y': 296},\n",
       "     {'x': 170, 'y': 301}],\n",
       "    'mouth': [{'x': 260, 'y': 477},\n",
       "     {'x': 272, 'y': 498},\n",
       "     {'x': 289, 'y': 514},\n",
       "     {'x': 313, 'y': 519},\n",
       "     {'x': 337, 'y': 516},\n",
       "     {'x': 358, 'y': 502},\n",
       "     {'x': 372, 'y': 482},\n",
       "     {'x': 351, 'y': 472},\n",
       "     {'x': 328, 'y': 465},\n",
       "     {'x': 313, 'y': 468},\n",
       "     {'x': 297, 'y': 464},\n",
       "     {'x': 278, 'y': 469},\n",
       "     {'x': 276, 'y': 489},\n",
       "     {'x': 294, 'y': 497},\n",
       "     {'x': 313, 'y': 502},\n",
       "     {'x': 334, 'y': 499},\n",
       "     {'x': 354, 'y': 492},\n",
       "     {'x': 352, 'y': 478},\n",
       "     {'x': 333, 'y': 475},\n",
       "     {'x': 313, 'y': 475},\n",
       "     {'x': 295, 'y': 474},\n",
       "     {'x': 278, 'y': 475}],\n",
       "    'nose': [{'x': 312, 'y': 414},\n",
       "     {'x': 321, 'y': 364},\n",
       "     {'x': 313, 'y': 380},\n",
       "     {'x': 305, 'y': 397},\n",
       "     {'x': 298, 'y': 413},\n",
       "     {'x': 292, 'y': 434},\n",
       "     {'x': 307, 'y': 445},\n",
       "     {'x': 319, 'y': 446},\n",
       "     {'x': 331, 'y': 445},\n",
       "     {'x': 348, 'y': 433},\n",
       "     {'x': 338, 'y': 412},\n",
       "     {'x': 332, 'y': 396},\n",
       "     {'x': 327, 'y': 380}],\n",
       "    'right_eye': [{'x': 452, 'y': 363},\n",
       "     {'x': 438, 'y': 379},\n",
       "     {'x': 418, 'y': 385},\n",
       "     {'x': 398, 'y': 380},\n",
       "     {'x': 381, 'y': 367},\n",
       "     {'x': 395, 'y': 354},\n",
       "     {'x': 415, 'y': 350},\n",
       "     {'x': 436, 'y': 352}],\n",
       "    'right_eyebrow': [{'x': 482, 'y': 320},\n",
       "     {'x': 452, 'y': 319},\n",
       "     {'x': 422, 'y': 321},\n",
       "     {'x': 391, 'y': 327},\n",
       "     {'x': 361, 'y': 332},\n",
       "     {'x': 384, 'y': 305},\n",
       "     {'x': 419, 'y': 295},\n",
       "     {'x': 454, 'y': 298}]},\n",
       "   'gender': 99,\n",
       "   'glass': True,\n",
       "   'glasses': 1,\n",
       "   'hat': 0,\n",
       "   'height': 398.0,\n",
       "   'mask': 0,\n",
       "   'pitch': -4,\n",
       "   'roll': 1,\n",
       "   'width': 398.0,\n",
       "   'x': 108,\n",
       "   'y': 213,\n",
       "   'yaw': 0}],\n",
       " 'image_height': 640,\n",
       " 'image_width': 640,\n",
       " 'session_id': ''}"
      ]
     },
     "execution_count": 68,
     "metadata": {},
     "output_type": "execute_result"
    }
   ],
   "source": [
    "appid = '*****'\n",
    "secret_id = '******'\n",
    "secret_key = '******'\n",
    "userid = '******'\n",
    "end_point = TencentYoutuyun.conf.API_YOUTU_END_POINT\n",
    "youtu = TencentYoutuyun.YouTu(appid, secret_id, secret_key, userid, end_point)"
   ]
  },
  {
   "cell_type": "code",
   "execution_count": 140,
   "metadata": {
    "collapsed": true
   },
   "outputs": [
    {
     "name": "stderr",
     "output_type": "stream",
     "text": [
      "E:\\miniconda\\envs\\course_py35\\lib\\site-packages\\ipykernel_launcher.py:1: SettingWithCopyWarning: \n",
      "A value is trying to be set on a copy of a slice from a DataFrame.\n",
      "Try using .loc[row_indexer,col_indexer] = value instead\n",
      "\n",
      "See the caveats in the documentation: http://pandas.pydata.org/pandas-docs/stable/indexing.html#indexing-view-versus-copy\n",
      "  \"\"\"Entry point for launching an IPython kernel.\n"
     ]
    }
   ],
   "source": [
    "friends['ishuman'] = 0"
   ]
  },
  {
   "cell_type": "code",
   "execution_count": 141,
   "metadata": {},
   "outputs": [],
   "source": [
    "for i in friends['id']:\n",
    "    result = youtu.DetectFace('E:\\\\MySQL_data\\\\wechat_friends_img\\\\image{}.jpg'.format(i),\n",
    "                          mode = 0, data_type = 0)\n",
    "    if result['face']:\n",
    "        friends.set_value(i,'ishuman',1)\n",
    "    else:\n",
    "        friends.set_value(i,'ishuman',0)"
   ]
  },
  {
   "cell_type": "code",
   "execution_count": 96,
   "metadata": {},
   "outputs": [
    {
     "data": {
      "text/plain": [
       "0.38693467336683418"
      ]
     },
     "execution_count": 96,
     "metadata": {},
     "output_type": "execute_result"
    }
   ],
   "source": [
    "friends['ishuman'].mean()"
   ]
  },
  {
   "cell_type": "code",
   "execution_count": 177,
   "metadata": {},
   "outputs": [
    {
     "data": {
      "text/plain": [
       "[Text(0,0,'使用人像'), Text(0,0,'不使用人像')]"
      ]
     },
     "execution_count": 177,
     "metadata": {},
     "output_type": "execute_result"
    },
    {
     "data": {
      "image/png": "[encoded data removed]",
      "text/plain": [
       "<matplotlib.figure.Figure at 0x26650e9a240>"
      ]
     },
     "metadata": {},
     "output_type": "display_data"
    }
   ],
   "source": [
    "plt.rcParams['font.family'] = ['SimHei']\n",
    "plt.title('性别与使用人像')\n",
    "ax = sns.countplot(x='ishuman',hue='Sex',data=friends,order = [1,0])\n",
    "ax.yaxis.tick_right()\n",
    "ax.yaxis.set_label_position('right')\n",
    "ax.set_ylabel('人数')\n",
    "\n",
    "for p in ax.patches:\n",
    "    x=p.get_bbox().get_points()[:,0]\n",
    "    y=p.get_bbox().get_points()[1,1]\n",
    "    ax.annotate('{:d}人'.format(int(y)), (x.mean(), y), \n",
    "            ha='center', va='bottom') \n",
    "    \n",
    "ax.yaxis.set_major_locator(matplotlib.ticker.LinearLocator(11))\n",
    "ax.set_ylim(0,80)\n",
    "xtick_labels = ['使用人像','不使用人像']\n",
    "ax.set_xticklabels(xtick_labels,fontsize=12);"
   ]
  },
  {
   "cell_type": "markdown",
   "metadata": {},
   "source": [
    "结论：男、女在是否使用人脸作为头像上无明显差异<br>\n",
    "未注明性别的，更不愿意使用人脸作为头像"
   ]
  },
  {
   "cell_type": "markdown",
   "metadata": {},
   "source": [
    "### 签名"
   ]
  },
  {
   "cell_type": "code",
   "execution_count": null,
   "metadata": {
    "collapsed": true
   },
   "outputs": [],
   "source": [
    "friends['issign'] = friends['Signature'].notnull()"
   ]
  },
  {
   "cell_type": "code",
   "execution_count": 179,
   "metadata": {},
   "outputs": [
    {
     "data": {
      "image/png": "[encoded data removed]",
      "text/plain": [
       "<matplotlib.figure.Figure at 0x26650e24438>"
      ]
     },
     "metadata": {},
     "output_type": "display_data"
    }
   ],
   "source": [
    "ncount = len(friends)\n",
    "ax = sns.countplot(x='issign',hue = 'Sex',data=friends)\n",
    "plt.rcParams['font.family'] = ['SimHei']\n",
    "plt.xlabel('是否签名',fontsize=12)\n",
    "plt.title('微信好友签名概况')\n",
    "\n",
    "ax2 = ax.twinx()\n",
    "ax2.yaxis.tick_left()\n",
    "ax.yaxis.tick_right()\n",
    "ax.yaxis.set_label_position('right')\n",
    "ax2.yaxis.set_label_position('left')\n",
    "ax.set_ylabel('人数')\n",
    "ax2.set_ylabel('占比 %')\n",
    "\n",
    "# 让‘人数’纵坐标的值为整数\n",
    "fmt = '%.0f'\n",
    "yticks = matplotlib.ticker.FormatStrFormatter( fmt )\n",
    "ax.yaxis.set_major_formatter( yticks )\n",
    "\n",
    "for p in ax.patches:\n",
    "    x=p.get_bbox().get_points()[:,0]\n",
    "    y=p.get_bbox().get_points()[1,1]\n",
    "    ax.annotate('{:.1f}%,{:d}人'.format(100.*y/ncount,int(y)), (x.mean(), y), \n",
    "            ha='center', va='bottom') \n",
    "\n",
    "ax.yaxis.set_major_locator(matplotlib.ticker.LinearLocator(11))\n",
    "\n",
    "# 设置纵轴数据范围\n",
    "ax2.set_ylim(0,50)\n",
    "ax.set_ylim(0,100)\n",
    "\n",
    "ax2.yaxis.set_major_locator(matplotlib.ticker.MultipleLocator(10))\n",
    "\n",
    "# 关闭坐标轴ax2 的横线\n",
    "# ax2.grid(None)\n",
    "\n",
    "# 修改x轴上标签值 如此就不需要图例\n",
    "a = ['未签名','有签名']\n",
    "ax.set_xticklabels(a,fontsize=12);"
   ]
  },
  {
   "cell_type": "markdown",
   "metadata": {},
   "source": [
    "和男性相比，女性使用签名的比例更大"
   ]
  },
  {
   "cell_type": "markdown",
   "metadata": {},
   "source": [
    "## 保存数据"
   ]
  },
  {
   "cell_type": "code",
   "execution_count": 182,
   "metadata": {},
   "outputs": [],
   "source": [
    "friends.to_csv('wechat_friends_data.csv',\n",
    "               index = False,  # 因为已经有了id这列\n",
    "               columns = ['id','Sex','issign','ishuman','Province','City']\n",
    "              )"
   ]
  }
 ],
 "metadata": {
  "kernelspec": {
   "display_name": "Python 3",
   "language": "python",
   "name": "python3"
  },
  "language_info": {
   "codemirror_mode": {
    "name": "ipython",
    "version": 3
   },
   "file_extension": ".py",
   "mimetype": "text/x-python",
   "name": "python",
   "nbconvert_exporter": "python",
   "pygments_lexer": "ipython3",
   "version": "3.5.4"
  },
  "toc": {
   "nav_menu": {},
   "number_sections": true,
   "sideBar": true,
   "skip_h1_title": false,
   "toc_cell": false,
   "toc_position": {},
   "toc_section_display": "block",
   "toc_window_display": false
  }
 },
 "nbformat": 4,
 "nbformat_minor": 2
}
